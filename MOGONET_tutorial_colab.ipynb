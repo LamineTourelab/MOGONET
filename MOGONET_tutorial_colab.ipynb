{
  "nbformat": 4,
  "nbformat_minor": 0,
  "metadata": {
    "colab": {
      "provenance": [],
      "authorship_tag": "ABX9TyM5mdz2euO/kW6L9EPTUF5N",
      "include_colab_link": true
    },
    "kernelspec": {
      "name": "python3",
      "display_name": "Python 3"
    },
    "language_info": {
      "name": "python"
    },
    "accelerator": "GPU",
    "gpuClass": "standard"
  },
  "cells": [
    {
      "cell_type": "markdown",
      "metadata": {
        "id": "view-in-github",
        "colab_type": "text"
      },
      "source": [
        "<a href=\"https://colab.research.google.com/github/LamineTourelab/MOGONET/blob/main/MOGONET_tutorial_colab.ipynb\" target=\"_parent\"><img src=\"https://colab.research.google.com/assets/colab-badge.svg\" alt=\"Open In Colab\"/></a>"
      ]
    },
    {
      "cell_type": "markdown",
      "source": [
        "# MOGONET test"
      ],
      "metadata": {
        "id": "XzcVz8qzbCOc"
      }
    },
    {
      "cell_type": "markdown",
      "source": [
        "Testing MOGONET on GPU. I use the original MOGONET data. In the file [MOGONET.py](https://github.com/LamineTou/MOGONET/blob/main/MOGONET.py) you will fine how to create your data et save in to folder.\n",
        "Will complet it later :)."
      ],
      "metadata": {
        "id": "wqhKPNu7bH5-"
      }
    },
    {
      "cell_type": "code",
      "execution_count": 17,
      "metadata": {
        "colab": {
          "base_uri": "https://localhost:8080/"
        },
        "id": "DKEuLCkLU_ZA",
        "outputId": "7a60a975-bb8e-4e7a-fe3e-123336bebaa7"
      },
      "outputs": [
        {
          "output_type": "stream",
          "name": "stdout",
          "text": [
            "Cloning into 'MOGONET'...\n",
            "remote: Enumerating objects: 374, done.\u001b[K\n",
            "remote: Total 374 (delta 0), reused 0 (delta 0), pack-reused 374 (from 1)\u001b[K\n",
            "Receiving objects: 100% (374/374), 57.06 MiB | 15.60 MiB/s, done.\n",
            "Resolving deltas: 100% (151/151), done.\n"
          ]
        }
      ],
      "source": [
        "!git clone https://github.com/LamineTourelab/MOGONET.git"
      ]
    },
    {
      "cell_type": "markdown",
      "source": [
        "## Change the directory"
      ],
      "metadata": {
        "id": "8FYa44AecXmn"
      }
    },
    {
      "cell_type": "code",
      "source": [
        "%cd MOGONET/\n",
        "!pip install ."
      ],
      "metadata": {
        "colab": {
          "base_uri": "https://localhost:8080/"
        },
        "id": "i83gIZ0pVI1T",
        "outputId": "33e7beee-e259-4372-88ee-b27734f4c0e9"
      },
      "execution_count": 1,
      "outputs": [
        {
          "output_type": "stream",
          "name": "stdout",
          "text": [
            "/content/MOGONET\n",
            "Processing /content/MOGONET\n",
            "  Preparing metadata (setup.py) ... \u001b[?25l\u001b[?25hdone\n",
            "Requirement already satisfied: numpy>=1.20.0 in /usr/local/lib/python3.11/dist-packages (from mogonet==0.1.0) (2.0.2)\n",
            "Requirement already satisfied: scikit-learn>=1.0 in /usr/local/lib/python3.11/dist-packages (from mogonet==0.1.0) (1.6.1)\n",
            "Requirement already satisfied: pandas>=1.3.0 in /usr/local/lib/python3.11/dist-packages (from mogonet==0.1.0) (2.2.2)\n",
            "Requirement already satisfied: torch>=1.10.0 in /usr/local/lib/python3.11/dist-packages (from mogonet==0.1.0) (2.6.0+cu124)\n",
            "Requirement already satisfied: seaborn>=0.11.0 in /usr/local/lib/python3.11/dist-packages (from mogonet==0.1.0) (0.13.2)\n",
            "Requirement already satisfied: python-dateutil>=2.8.2 in /usr/local/lib/python3.11/dist-packages (from pandas>=1.3.0->mogonet==0.1.0) (2.8.2)\n",
            "Requirement already satisfied: pytz>=2020.1 in /usr/local/lib/python3.11/dist-packages (from pandas>=1.3.0->mogonet==0.1.0) (2025.1)\n",
            "Requirement already satisfied: tzdata>=2022.7 in /usr/local/lib/python3.11/dist-packages (from pandas>=1.3.0->mogonet==0.1.0) (2025.1)\n",
            "Requirement already satisfied: scipy>=1.6.0 in /usr/local/lib/python3.11/dist-packages (from scikit-learn>=1.0->mogonet==0.1.0) (1.14.1)\n",
            "Requirement already satisfied: joblib>=1.2.0 in /usr/local/lib/python3.11/dist-packages (from scikit-learn>=1.0->mogonet==0.1.0) (1.4.2)\n",
            "Requirement already satisfied: threadpoolctl>=3.1.0 in /usr/local/lib/python3.11/dist-packages (from scikit-learn>=1.0->mogonet==0.1.0) (3.6.0)\n",
            "Requirement already satisfied: matplotlib!=3.6.1,>=3.4 in /usr/local/lib/python3.11/dist-packages (from seaborn>=0.11.0->mogonet==0.1.0) (3.10.0)\n",
            "Requirement already satisfied: filelock in /usr/local/lib/python3.11/dist-packages (from torch>=1.10.0->mogonet==0.1.0) (3.17.0)\n",
            "Requirement already satisfied: typing-extensions>=4.10.0 in /usr/local/lib/python3.11/dist-packages (from torch>=1.10.0->mogonet==0.1.0) (4.12.2)\n",
            "Requirement already satisfied: networkx in /usr/local/lib/python3.11/dist-packages (from torch>=1.10.0->mogonet==0.1.0) (3.4.2)\n",
            "Requirement already satisfied: jinja2 in /usr/local/lib/python3.11/dist-packages (from torch>=1.10.0->mogonet==0.1.0) (3.1.6)\n",
            "Requirement already satisfied: fsspec in /usr/local/lib/python3.11/dist-packages (from torch>=1.10.0->mogonet==0.1.0) (2024.10.0)\n",
            "Requirement already satisfied: nvidia-cuda-nvrtc-cu12==12.4.127 in /usr/local/lib/python3.11/dist-packages (from torch>=1.10.0->mogonet==0.1.0) (12.4.127)\n",
            "Requirement already satisfied: nvidia-cuda-runtime-cu12==12.4.127 in /usr/local/lib/python3.11/dist-packages (from torch>=1.10.0->mogonet==0.1.0) (12.4.127)\n",
            "Requirement already satisfied: nvidia-cuda-cupti-cu12==12.4.127 in /usr/local/lib/python3.11/dist-packages (from torch>=1.10.0->mogonet==0.1.0) (12.4.127)\n",
            "Requirement already satisfied: nvidia-cudnn-cu12==9.1.0.70 in /usr/local/lib/python3.11/dist-packages (from torch>=1.10.0->mogonet==0.1.0) (9.1.0.70)\n",
            "Requirement already satisfied: nvidia-cublas-cu12==12.4.5.8 in /usr/local/lib/python3.11/dist-packages (from torch>=1.10.0->mogonet==0.1.0) (12.4.5.8)\n",
            "Requirement already satisfied: nvidia-cufft-cu12==11.2.1.3 in /usr/local/lib/python3.11/dist-packages (from torch>=1.10.0->mogonet==0.1.0) (11.2.1.3)\n",
            "Requirement already satisfied: nvidia-curand-cu12==10.3.5.147 in /usr/local/lib/python3.11/dist-packages (from torch>=1.10.0->mogonet==0.1.0) (10.3.5.147)\n",
            "Requirement already satisfied: nvidia-cusolver-cu12==11.6.1.9 in /usr/local/lib/python3.11/dist-packages (from torch>=1.10.0->mogonet==0.1.0) (11.6.1.9)\n",
            "Requirement already satisfied: nvidia-cusparse-cu12==12.3.1.170 in /usr/local/lib/python3.11/dist-packages (from torch>=1.10.0->mogonet==0.1.0) (12.3.1.170)\n",
            "Requirement already satisfied: nvidia-cusparselt-cu12==0.6.2 in /usr/local/lib/python3.11/dist-packages (from torch>=1.10.0->mogonet==0.1.0) (0.6.2)\n",
            "Requirement already satisfied: nvidia-nccl-cu12==2.21.5 in /usr/local/lib/python3.11/dist-packages (from torch>=1.10.0->mogonet==0.1.0) (2.21.5)\n",
            "Requirement already satisfied: nvidia-nvtx-cu12==12.4.127 in /usr/local/lib/python3.11/dist-packages (from torch>=1.10.0->mogonet==0.1.0) (12.4.127)\n",
            "Requirement already satisfied: nvidia-nvjitlink-cu12==12.4.127 in /usr/local/lib/python3.11/dist-packages (from torch>=1.10.0->mogonet==0.1.0) (12.4.127)\n",
            "Requirement already satisfied: triton==3.2.0 in /usr/local/lib/python3.11/dist-packages (from torch>=1.10.0->mogonet==0.1.0) (3.2.0)\n",
            "Requirement already satisfied: sympy==1.13.1 in /usr/local/lib/python3.11/dist-packages (from torch>=1.10.0->mogonet==0.1.0) (1.13.1)\n",
            "Requirement already satisfied: mpmath<1.4,>=1.1.0 in /usr/local/lib/python3.11/dist-packages (from sympy==1.13.1->torch>=1.10.0->mogonet==0.1.0) (1.3.0)\n",
            "Requirement already satisfied: contourpy>=1.0.1 in /usr/local/lib/python3.11/dist-packages (from matplotlib!=3.6.1,>=3.4->seaborn>=0.11.0->mogonet==0.1.0) (1.3.1)\n",
            "Requirement already satisfied: cycler>=0.10 in /usr/local/lib/python3.11/dist-packages (from matplotlib!=3.6.1,>=3.4->seaborn>=0.11.0->mogonet==0.1.0) (0.12.1)\n",
            "Requirement already satisfied: fonttools>=4.22.0 in /usr/local/lib/python3.11/dist-packages (from matplotlib!=3.6.1,>=3.4->seaborn>=0.11.0->mogonet==0.1.0) (4.56.0)\n",
            "Requirement already satisfied: kiwisolver>=1.3.1 in /usr/local/lib/python3.11/dist-packages (from matplotlib!=3.6.1,>=3.4->seaborn>=0.11.0->mogonet==0.1.0) (1.4.8)\n",
            "Requirement already satisfied: packaging>=20.0 in /usr/local/lib/python3.11/dist-packages (from matplotlib!=3.6.1,>=3.4->seaborn>=0.11.0->mogonet==0.1.0) (24.2)\n",
            "Requirement already satisfied: pillow>=8 in /usr/local/lib/python3.11/dist-packages (from matplotlib!=3.6.1,>=3.4->seaborn>=0.11.0->mogonet==0.1.0) (11.1.0)\n",
            "Requirement already satisfied: pyparsing>=2.3.1 in /usr/local/lib/python3.11/dist-packages (from matplotlib!=3.6.1,>=3.4->seaborn>=0.11.0->mogonet==0.1.0) (3.2.1)\n",
            "Requirement already satisfied: six>=1.5 in /usr/local/lib/python3.11/dist-packages (from python-dateutil>=2.8.2->pandas>=1.3.0->mogonet==0.1.0) (1.17.0)\n",
            "Requirement already satisfied: MarkupSafe>=2.0 in /usr/local/lib/python3.11/dist-packages (from jinja2->torch>=1.10.0->mogonet==0.1.0) (3.0.2)\n",
            "Building wheels for collected packages: mogonet\n",
            "  Building wheel for mogonet (setup.py) ... \u001b[?25l\u001b[?25hdone\n",
            "  Created wheel for mogonet: filename=mogonet-0.1.0-py3-none-any.whl size=9164 sha256=3ff64d0ffdac35d072d08fcd826b5249bce69cf60559be045b53455e9b74de2c\n",
            "  Stored in directory: /tmp/pip-ephem-wheel-cache-rns6omne/wheels/ab/08/ca/e2d162eeb3332acdc8a7a3d35429a6d5eff8eb2543054956e4\n",
            "Successfully built mogonet\n",
            "Installing collected packages: mogonet\n",
            "  Attempting uninstall: mogonet\n",
            "    Found existing installation: mogonet 0.1.0\n",
            "    Uninstalling mogonet-0.1.0:\n",
            "      Successfully uninstalled mogonet-0.1.0\n",
            "Successfully installed mogonet-0.1.0\n"
          ]
        }
      ]
    },
    {
      "cell_type": "code",
      "source": [
        "%ls"
      ],
      "metadata": {
        "colab": {
          "base_uri": "https://localhost:8080/"
        },
        "id": "3KJPI1KMVQUx",
        "outputId": "b0f282d2-3678-4deb-95e4-d3bc29279f15"
      },
      "execution_count": 2,
      "outputs": [
        {
          "output_type": "stream",
          "name": "stdout",
          "text": [
            "\u001b[0m\u001b[01;34mBRCA\u001b[0m/   licence.md  \u001b[01;34mMOGONET\u001b[0m/           MOGONET_tutorial_colab.ipynb  requirements.txt  \u001b[01;34mscripts\u001b[0m/\n",
            "\u001b[01;34mbuild\u001b[0m/  \u001b[01;34mmogonet\u001b[0m/    \u001b[01;34mmogonet.egg-info\u001b[0m/  README.md                     \u001b[01;34mROSMAP\u001b[0m/           setup.py\n"
          ]
        }
      ]
    },
    {
      "cell_type": "code",
      "source": [
        "import mogonet\n",
        "import os\n",
        "import copy\n",
        "print(mogonet.__version__)  # Should print \"0.1.0\""
      ],
      "metadata": {
        "colab": {
          "base_uri": "https://localhost:8080/"
        },
        "id": "JDD6GDx89aT7",
        "outputId": "d70c4bc6-0d6f-4be8-89f8-6a3c861ce1df"
      },
      "execution_count": 3,
      "outputs": [
        {
          "output_type": "stream",
          "name": "stdout",
          "text": [
            "0.1.0\n"
          ]
        }
      ]
    },
    {
      "cell_type": "markdown",
      "source": [
        "## Model train"
      ],
      "metadata": {
        "id": "KWRxXqa3cfRs"
      }
    },
    {
      "cell_type": "code",
      "source": [
        "# Example for MOGONET classification\n",
        "from mogonet.train_test import train_test\n",
        "\n",
        "if __name__ == \"__main__\":\n",
        "    data_folder = 'ROSMAP'  # Choose 'ROSMAP' for binary classification or 'BRCA' for multi-class\n",
        "    view_list = [1, 2, 3]  # Define the number of omics views\n",
        "    num_epoch_pretrain = 1500\n",
        "    num_epoch = 1500\n",
        "    lr_e_pretrain = 1e-3\n",
        "    lr_e = 5e-4\n",
        "    lr_c = 1e-3\n",
        "\n",
        "    if data_folder == 'ROSMAP':\n",
        "        num_class = 2\n",
        "    elif data_folder == 'BRCA':\n",
        "        num_class = 5\n",
        "\n",
        "    model_folder = train_test(\n",
        "        data_folder, view_list, num_class,\n",
        "        lr_e_pretrain, lr_e, lr_c,\n",
        "        num_epoch_pretrain, num_epoch)\n",
        ""
      ],
      "metadata": {
        "colab": {
          "base_uri": "https://localhost:8080/"
        },
        "id": "tBhFqtY9VSVg",
        "outputId": "ede7b43c-1019-457c-864f-abc33663b8c3"
      },
      "execution_count": 9,
      "outputs": [
        {
          "output_type": "stream",
          "name": "stdout",
          "text": [
            "\n",
            "Pretrain GCNs...\n",
            "\n",
            "Training...\n",
            "\n",
            "Test: Epoch 0\n",
            "Test ACC: 0.519\n",
            "Test F1: 0.683\n",
            "Test AUC: 0.383\n",
            "\n",
            "\n",
            "Test: Epoch 50\n",
            "Test ACC: 0.604\n",
            "Test F1: 0.677\n",
            "Test AUC: 0.676\n",
            "\n",
            "\n",
            "Test: Epoch 100\n",
            "Test ACC: 0.632\n",
            "Test F1: 0.655\n",
            "Test AUC: 0.756\n",
            "\n",
            "\n",
            "Test: Epoch 150\n",
            "Test ACC: 0.726\n",
            "Test F1: 0.734\n",
            "Test AUC: 0.819\n",
            "\n",
            "\n",
            "Test: Epoch 200\n",
            "Test ACC: 0.736\n",
            "Test F1: 0.741\n",
            "Test AUC: 0.848\n",
            "\n",
            "\n",
            "Test: Epoch 250\n",
            "Test ACC: 0.755\n",
            "Test F1: 0.755\n",
            "Test AUC: 0.864\n",
            "\n",
            "\n",
            "Test: Epoch 300\n",
            "Test ACC: 0.745\n",
            "Test F1: 0.757\n",
            "Test AUC: 0.861\n",
            "\n",
            "\n",
            "Test: Epoch 350\n",
            "Test ACC: 0.783\n",
            "Test F1: 0.796\n",
            "Test AUC: 0.881\n",
            "\n",
            "\n",
            "Test: Epoch 400\n",
            "Test ACC: 0.783\n",
            "Test F1: 0.800\n",
            "Test AUC: 0.883\n",
            "\n",
            "\n",
            "Test: Epoch 450\n",
            "Test ACC: 0.802\n",
            "Test F1: 0.814\n",
            "Test AUC: 0.893\n",
            "\n",
            "\n",
            "Test: Epoch 500\n",
            "Test ACC: 0.783\n",
            "Test F1: 0.781\n",
            "Test AUC: 0.865\n",
            "\n",
            "\n",
            "Test: Epoch 550\n",
            "Test ACC: 0.774\n",
            "Test F1: 0.782\n",
            "Test AUC: 0.871\n",
            "\n",
            "\n",
            "Test: Epoch 600\n",
            "Test ACC: 0.811\n",
            "Test F1: 0.825\n",
            "Test AUC: 0.889\n",
            "\n",
            "\n",
            "Test: Epoch 650\n",
            "Test ACC: 0.821\n",
            "Test F1: 0.822\n",
            "Test AUC: 0.882\n",
            "\n",
            "\n",
            "Test: Epoch 700\n",
            "Test ACC: 0.774\n",
            "Test F1: 0.774\n",
            "Test AUC: 0.860\n",
            "\n",
            "\n",
            "Test: Epoch 750\n",
            "Test ACC: 0.811\n",
            "Test F1: 0.811\n",
            "Test AUC: 0.885\n",
            "\n",
            "\n",
            "Test: Epoch 800\n",
            "Test ACC: 0.802\n",
            "Test F1: 0.784\n",
            "Test AUC: 0.884\n",
            "\n",
            "\n",
            "Test: Epoch 850\n",
            "Test ACC: 0.792\n",
            "Test F1: 0.780\n",
            "Test AUC: 0.876\n",
            "\n",
            "\n",
            "Test: Epoch 900\n",
            "Test ACC: 0.774\n",
            "Test F1: 0.774\n",
            "Test AUC: 0.872\n",
            "\n",
            "\n",
            "Test: Epoch 950\n",
            "Test ACC: 0.802\n",
            "Test F1: 0.811\n",
            "Test AUC: 0.883\n",
            "\n",
            "\n",
            "Test: Epoch 1000\n",
            "Test ACC: 0.802\n",
            "Test F1: 0.784\n",
            "Test AUC: 0.868\n",
            "\n",
            "\n",
            "Test: Epoch 1050\n",
            "Test ACC: 0.811\n",
            "Test F1: 0.818\n",
            "Test AUC: 0.895\n",
            "\n",
            "\n",
            "Test: Epoch 1100\n",
            "Test ACC: 0.811\n",
            "Test F1: 0.815\n",
            "Test AUC: 0.878\n",
            "\n",
            "\n",
            "Test: Epoch 1150\n",
            "Test ACC: 0.792\n",
            "Test F1: 0.784\n",
            "Test AUC: 0.873\n",
            "\n",
            "\n",
            "Test: Epoch 1200\n",
            "Test ACC: 0.783\n",
            "Test F1: 0.793\n",
            "Test AUC: 0.877\n",
            "\n",
            "\n",
            "Test: Epoch 1250\n",
            "Test ACC: 0.774\n",
            "Test F1: 0.786\n",
            "Test AUC: 0.879\n",
            "\n",
            "\n",
            "Test: Epoch 1300\n",
            "Test ACC: 0.821\n",
            "Test F1: 0.835\n",
            "Test AUC: 0.887\n",
            "\n",
            "\n",
            "Test: Epoch 1350\n",
            "Test ACC: 0.792\n",
            "Test F1: 0.796\n",
            "Test AUC: 0.877\n",
            "\n",
            "\n",
            "Test: Epoch 1400\n",
            "Test ACC: 0.802\n",
            "Test F1: 0.796\n",
            "Test AUC: 0.862\n",
            "\n",
            "\n",
            "Test: Epoch 1450\n",
            "Test ACC: 0.802\n",
            "Test F1: 0.796\n",
            "Test AUC: 0.878\n",
            "\n",
            "\n",
            "Test: Epoch 1500\n",
            "Test ACC: 0.783\n",
            "Test F1: 0.789\n",
            "Test AUC: 0.870\n",
            "\n"
          ]
        }
      ]
    },
    {
      "cell_type": "code",
      "source": [
        "from mogonet.feat_importance import cal_feat_imp, summarize_imp_feat\n",
        "\n",
        "if __name__ == \"__main__\":\n",
        "    data_folder = 'BRCA'\n",
        "    model_folder = os.path.join(data_folder, 'models')\n",
        "    view_list = [1,2,3]\n",
        "    if data_folder == 'ROSMAP':\n",
        "        num_class = 2\n",
        "    if data_folder == 'BRCA':\n",
        "        num_class = 5\n",
        "\n",
        "    featimp_list_list = []\n",
        "    for rep in range(5):\n",
        "        featimp_list = cal_feat_imp(data_folder, os.path.join(model_folder, str(rep+1)),\n",
        "                                    view_list, num_class)\n",
        "        featimp_list_list.append(copy.deepcopy(featimp_list))\n",
        "    summarize_imp_feat(featimp_list_list)\n",
        ""
      ],
      "metadata": {
        "colab": {
          "base_uri": "https://localhost:8080/"
        },
        "id": "xfcmz-C4VhQQ",
        "outputId": "866a1d56-498c-4f84-f4f6-28265f7d8864"
      },
      "execution_count": 11,
      "outputs": [
        {
          "output_type": "stream",
          "name": "stdout",
          "text": [
            "Rank\tFeature name\n",
            "1\tSNAR-C2\n",
            "2\tNCRNA00203\n",
            "3\tKLHL21\n",
            "4\tMYO1D\n",
            "5\tRNF133\n",
            "6\tTCF20\n",
            "7\tCRYAB\n",
            "8\tC2orf81\n",
            "9\tSULT1A1\n",
            "10\tTLR1\n",
            "11\tTDRG1\n",
            "12\tRLBP1\n",
            "13\tGDPD5\n",
            "14\tVWCE\n",
            "15\tCST7\n",
            "16\tSNORA71B\n",
            "17\tHCLS1\n",
            "18\tMIR1276\n",
            "19\tMIR135B\n",
            "20\tZNF516\n",
            "21\tCIRBP|1153\n",
            "22\tFAM125B\n",
            "23\tLOC145814\n",
            "24\tIL4I1\n",
            "25\tEVI5L\n",
            "26\tNLRP8\n",
            "27\tPTPN22\n",
            "28\tC15orf50\n",
            "29\tLGALS2\n",
            "30\tCD200R1\n"
          ]
        }
      ]
    },
    {
      "cell_type": "code",
      "source": [
        "from mogonet.feat_importance import cal_feat_imp, summarize_imp_feat\n",
        "\n",
        "if __name__ == \"__main__\":\n",
        "    data_folder = 'ROSMAP'\n",
        "    model_folder = os.path.join(data_folder, 'models')\n",
        "    view_list = [1,2,3]\n",
        "    if data_folder == 'ROSMAP':\n",
        "        num_class = 2\n",
        "    if data_folder == 'BRCA':\n",
        "        num_class = 5\n",
        "\n",
        "    featimp_list_list = []\n",
        "    for rep in range(5):\n",
        "        featimp_list = cal_feat_imp(data_folder, os.path.join(model_folder, str(rep+1)),\n",
        "                                    view_list, num_class)\n",
        "        featimp_list_list.append(copy.deepcopy(featimp_list))\n",
        "    summarize_imp_feat(featimp_list_list)"
      ],
      "metadata": {
        "colab": {
          "base_uri": "https://localhost:8080/"
        },
        "id": "VhICXWV7a4PX",
        "outputId": "d45af087-617c-4d6a-e28a-d6f30313be4a"
      },
      "execution_count": 10,
      "outputs": [
        {
          "output_type": "stream",
          "name": "stdout",
          "text": [
            "Rank\tFeature name\n",
            "1\tcg06946880\n",
            "2\tcg05697249\n",
            "3\tcg05807444\n",
            "4\tcg05973262\n",
            "5\tENSG00000257499.1\n",
            "6\tENSG00000260001.1\n",
            "7\tENSG00000260328.1\n",
            "8\tENSG00000248455.1\n",
            "9\tcg01869233\n",
            "10\tcg02008416\n",
            "11\tENSG00000267488.1\n",
            "12\tcg05164634\n",
            "13\tENSG00000256193.1\n",
            "14\tcg08727202\n",
            "15\tcg08775230\n",
            "16\tcg08952029\n",
            "17\tcg09382492\n",
            "18\tcg09656934\n",
            "19\tcg09705062\n",
            "20\tcg02932167\n",
            "21\tcg03400060\n",
            "22\tcg10468702\n",
            "23\tcg04983977\n",
            "24\tcg00727590\n",
            "25\tENSG00000159176.9\n",
            "26\tENSG00000125637.10\n",
            "27\tENSG00000126803.8\n",
            "28\tENSG00000166912.12\n",
            "29\tENSG00000170759.10\n",
            "30\tENSG00000171388.9\n"
          ]
        }
      ]
    }
  ]
}